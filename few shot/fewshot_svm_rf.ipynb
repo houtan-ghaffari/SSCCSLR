{
 "cells": [
  {
   "cell_type": "markdown",
   "metadata": {},
   "source": [
    "# Overview\n",
    "\n",
    "* Run SVM and Random Forest on few-shots for comparison to neural network."
   ]
  },
  {
   "cell_type": "code",
   "execution_count": 1,
   "metadata": {},
   "outputs": [],
   "source": [
    "import numpy as np\n",
    "np.random.seed(27)\n",
    "from sklearn.svm import SVC\n",
    "from sklearn.ensemble import RandomForestClassifier"
   ]
  },
  {
   "cell_type": "markdown",
   "metadata": {},
   "source": [
    "# Load Data"
   ]
  },
  {
   "cell_type": "code",
   "execution_count": 2,
   "metadata": {},
   "outputs": [
    {
     "name": "stdout",
     "output_type": "stream",
     "text": [
      "[300000 300000 300000 300000] float32\n",
      "(1200000, 10, 7) float32\n",
      "[100 100 100 100] float32\n",
      "(400, 10, 7) float32\n"
     ]
    }
   ],
   "source": [
    "x_train = np.load('../../data/source/x_train.npy')\n",
    "y_train = np.load('../../data/source/y_train.npy')\n",
    "x_test = np.load('../../data/source/x_test.npy')\n",
    "y_test = np.load('../../data/source/y_test.npy')\n",
    "print(np.bincount(y_test.astype('int32')), y_test.dtype)\n",
    "print(x_test.shape, x_test.dtype)\n",
    "print(np.bincount(y_train.astype('int32')), y_train.dtype)\n",
    "print(x_train.shape, x_train.dtype)"
   ]
  },
  {
   "cell_type": "markdown",
   "metadata": {},
   "source": [
    "# Helper function to sample training data"
   ]
  },
  {
   "cell_type": "code",
   "execution_count": 3,
   "metadata": {},
   "outputs": [],
   "source": [
    "def sample_few_train_set(few=5):\n",
    "    \n",
    "    w_ind = np.where(y_train==0)[0]\n",
    "    c_ind = np.where(y_train==1)[0]\n",
    "    r_ind = np.where(y_train==2)[0]\n",
    "    o_ind = np.where(y_train==3)[0]\n",
    "\n",
    "    x_w = x_train[w_ind]\n",
    "    y_w = y_train[w_ind]\n",
    "    \n",
    "    x_c = x_train[c_ind]\n",
    "    y_c = y_train[c_ind]\n",
    "    \n",
    "    x_r = x_train[r_ind]\n",
    "    y_r = y_train[r_ind]\n",
    "    \n",
    "    x_o = x_train[o_ind]\n",
    "    y_o = y_train[o_ind]\n",
    "\n",
    "    x = np.concatenate([x_w[:few], x_c[:few], x_r[:few], x_o[:few]])\n",
    "    y = np.concatenate([y_w[:few], y_c[:few], y_r[:few], y_o[:few]])\n",
    "    \n",
    "    return x, y"
   ]
  },
  {
   "cell_type": "markdown",
   "metadata": {},
   "source": [
    "# Experiments"
   ]
  },
  {
   "cell_type": "markdown",
   "metadata": {},
   "source": [
    "## 5-shot"
   ]
  },
  {
   "cell_type": "code",
   "execution_count": 4,
   "metadata": {},
   "outputs": [
    {
     "name": "stdout",
     "output_type": "stream",
     "text": [
      "(20, 10, 7) (20,)\n",
      "(20, 70) (20,)\n"
     ]
    }
   ],
   "source": [
    "x_few, y_few = sample_few_train_set(few=5)\n",
    "print(x_few.shape, y_few.shape)\n",
    "x_few = x_few.reshape((x_few.shape[0], -1))\n",
    "print(x_few.shape, y_few.shape)"
   ]
  },
  {
   "cell_type": "code",
   "execution_count": 13,
   "metadata": {},
   "outputs": [
    {
     "name": "stdout",
     "output_type": "stream",
     "text": [
      "SVM:  0.8048783333333334\n",
      "RF:  0.7981641666666667\n"
     ]
    }
   ],
   "source": [
    "cls = SVC(random_state=27)\n",
    "_ = cls.fit(x_few, y_few)\n",
    "print('SVM: ', cls.score(x_test.reshape(1200000, -1), y_test))\n",
    "cls = RandomForestClassifier(max_depth=None, random_state=27)\n",
    "_ = cls.fit(x_few, y_few)\n",
    "print('RF: ', cls.score(x_test.reshape(1200000, -1), y_test))"
   ]
  },
  {
   "cell_type": "markdown",
   "metadata": {},
   "source": [
    "## 10-shots"
   ]
  },
  {
   "cell_type": "code",
   "execution_count": 14,
   "metadata": {},
   "outputs": [
    {
     "name": "stdout",
     "output_type": "stream",
     "text": [
      "(40, 10, 7) (40,)\n",
      "(40, 70) (40,)\n"
     ]
    }
   ],
   "source": [
    "x_few, y_few = sample_few_train_set(few=10)\n",
    "print(x_few.shape, y_few.shape)\n",
    "x_few = x_few.reshape((x_few.shape[0], -1))\n",
    "print(x_few.shape, y_few.shape)"
   ]
  },
  {
   "cell_type": "code",
   "execution_count": 21,
   "metadata": {},
   "outputs": [
    {
     "name": "stdout",
     "output_type": "stream",
     "text": [
      "SVM:  0.8020433333333333\n",
      "RF:  0.8174116666666666\n"
     ]
    }
   ],
   "source": [
    "cls = SVC(random_state=27)\n",
    "_ = cls.fit(x_few, y_few)\n",
    "print('SVM: ', cls.score(x_test.reshape(1200000, -1), y_test))\n",
    "cls = RandomForestClassifier(max_depth=None, random_state=27)\n",
    "_ = cls.fit(x_few, y_few)\n",
    "print('RF: ', cls.score(x_test.reshape(1200000, -1), y_test))"
   ]
  },
  {
   "cell_type": "markdown",
   "metadata": {},
   "source": [
    "## 20 shot"
   ]
  },
  {
   "cell_type": "code",
   "execution_count": 22,
   "metadata": {},
   "outputs": [
    {
     "name": "stdout",
     "output_type": "stream",
     "text": [
      "(80, 10, 7) (80,)\n",
      "(80, 70) (80,)\n"
     ]
    }
   ],
   "source": [
    "x_few, y_few = sample_few_train_set(few=20)\n",
    "print(x_few.shape, y_few.shape)\n",
    "x_few = x_few.reshape((x_few.shape[0], -1))\n",
    "print(x_few.shape, y_few.shape)"
   ]
  },
  {
   "cell_type": "code",
   "execution_count": 23,
   "metadata": {},
   "outputs": [
    {
     "name": "stdout",
     "output_type": "stream",
     "text": [
      "SVM:  0.8339866666666667\n",
      "RF:  0.8445208333333334\n"
     ]
    }
   ],
   "source": [
    "cls = SVC(random_state=27)\n",
    "_ = cls.fit(x_few, y_few)\n",
    "print('SVM: ', cls.score(x_test.reshape(1200000, -1), y_test))\n",
    "cls = RandomForestClassifier(max_depth=None, random_state=27)\n",
    "_ = cls.fit(x_few, y_few)\n",
    "print('RF: ', cls.score(x_test.reshape(1200000, -1), y_test))"
   ]
  },
  {
   "cell_type": "markdown",
   "metadata": {},
   "source": [
    "## 50 shots"
   ]
  },
  {
   "cell_type": "code",
   "execution_count": 24,
   "metadata": {},
   "outputs": [
    {
     "name": "stdout",
     "output_type": "stream",
     "text": [
      "(200, 10, 7) (200,)\n",
      "(200, 70) (200,)\n"
     ]
    }
   ],
   "source": [
    "x_few, y_few = sample_few_train_set(few=50)\n",
    "print(x_few.shape, y_few.shape)\n",
    "x_few = x_few.reshape((x_few.shape[0], -1))\n",
    "print(x_few.shape, y_few.shape)"
   ]
  },
  {
   "cell_type": "code",
   "execution_count": 25,
   "metadata": {},
   "outputs": [
    {
     "name": "stdout",
     "output_type": "stream",
     "text": [
      "SVM:  0.86588\n",
      "RF:  0.8903425\n"
     ]
    }
   ],
   "source": [
    "cls = SVC(random_state=27)\n",
    "_ = cls.fit(x_few, y_few)\n",
    "print('SVM: ', cls.score(x_test.reshape(1200000, -1), y_test))\n",
    "cls = RandomForestClassifier(max_depth=None, random_state=27)\n",
    "_ = cls.fit(x_few, y_few)\n",
    "print('RF: ', cls.score(x_test.reshape(1200000, -1), y_test))"
   ]
  },
  {
   "cell_type": "markdown",
   "metadata": {},
   "source": [
    "## 100 shot"
   ]
  },
  {
   "cell_type": "code",
   "execution_count": 26,
   "metadata": {},
   "outputs": [
    {
     "name": "stdout",
     "output_type": "stream",
     "text": [
      "(400, 10, 7) (400,)\n",
      "(400, 70) (400,)\n"
     ]
    }
   ],
   "source": [
    "x_few, y_few = sample_few_train_set(few=100)\n",
    "print(x_few.shape, y_few.shape)\n",
    "x_few = x_few.reshape((x_few.shape[0], -1))\n",
    "print(x_few.shape, y_few.shape)"
   ]
  },
  {
   "cell_type": "code",
   "execution_count": 27,
   "metadata": {},
   "outputs": [
    {
     "name": "stdout",
     "output_type": "stream",
     "text": [
      "SVM:  0.8881058333333334\n",
      "RF:  0.9168608333333333\n"
     ]
    }
   ],
   "source": [
    "cls = SVC(random_state=27)\n",
    "_ = cls.fit(x_few, y_few)\n",
    "print('SVM: ', cls.score(x_test.reshape(1200000, -1), y_test))\n",
    "cls = RandomForestClassifier(max_depth=None, random_state=27)\n",
    "_ = cls.fit(x_few, y_few)\n",
    "print('RF: ', cls.score(x_test.reshape(1200000, -1), y_test))"
   ]
  }
 ],
 "metadata": {
  "kernelspec": {
   "display_name": "Python 3",
   "language": "python",
   "name": "python3"
  },
  "language_info": {
   "codemirror_mode": {
    "name": "ipython",
    "version": 3
   },
   "file_extension": ".py",
   "mimetype": "text/x-python",
   "name": "python",
   "nbconvert_exporter": "python",
   "pygments_lexer": "ipython3",
   "version": "3.8.5"
  }
 },
 "nbformat": 4,
 "nbformat_minor": 4
}
