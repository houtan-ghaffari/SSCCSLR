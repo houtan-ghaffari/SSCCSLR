{
 "cells": [
  {
   "cell_type": "code",
   "execution_count": 1,
   "id": "phantom-scheduling",
   "metadata": {},
   "outputs": [],
   "source": [
    "import numpy as np\n",
    "np.random.seed(27)\n",
    "from sklearn.svm import SVC\n",
    "from sklearn.ensemble import RandomForestClassifier\n",
    "from sklearn.model_selection import train_test_split"
   ]
  },
  {
   "cell_type": "code",
   "execution_count": 2,
   "id": "spatial-sport",
   "metadata": {},
   "outputs": [],
   "source": [
    "X = np.load('../data/source/x_test.npy')\n",
    "Y = np.load('../data/source/y_test.npy')"
   ]
  },
  {
   "cell_type": "code",
   "execution_count": 3,
   "id": "coordinated-trader",
   "metadata": {},
   "outputs": [
    {
     "name": "stdout",
     "output_type": "stream",
     "text": [
      "[270000 270000 270000 270000]\n",
      "[21000 21000 21000 21000]\n",
      "[9000 9000 9000 9000]\n"
     ]
    }
   ],
   "source": [
    "x_train, x_test, y_train, y_test = train_test_split(X, Y, stratify=Y, test_size=0.9, random_state=27)\n",
    "x_val, x_train, y_val, y_train = train_test_split(x_train, y_train, stratify=y_train, test_size=0.3, random_state=27)\n",
    "print(np.bincount(y_test.astype('int32')))\n",
    "print(np.bincount(y_val.astype('int32')))\n",
    "print(np.bincount(y_train.astype('int32')))"
   ]
  },
  {
   "cell_type": "code",
   "execution_count": 4,
   "id": "scheduled-hobby",
   "metadata": {},
   "outputs": [
    {
     "name": "stdout",
     "output_type": "stream",
     "text": [
      "(36000, 70) (84000, 70) (1080000, 70)\n"
     ]
    }
   ],
   "source": [
    "x_train = x_train.reshape(x_train.shape[0], -1)\n",
    "x_val = x_val.reshape(x_val.shape[0], -1)\n",
    "x_test = x_test.reshape(x_test.shape[0], -1)\n",
    "print(x_train.shape, x_val.shape, x_test.shape)"
   ]
  },
  {
   "cell_type": "markdown",
   "id": "fifteen-matter",
   "metadata": {},
   "source": [
    "# SVM"
   ]
  },
  {
   "cell_type": "code",
   "execution_count": 20,
   "id": "fourth-monte",
   "metadata": {},
   "outputs": [],
   "source": [
    "Cs = [1, 10, 100]\n",
    "kernels = ['poly', 'rbf']\n",
    "degrees = [5, 7, 9]\n",
    "gammas = ['scale'] # this the best, have run before"
   ]
  },
  {
   "cell_type": "code",
   "execution_count": 21,
   "id": "stainless-emission",
   "metadata": {},
   "outputs": [],
   "source": [
    "best = {\"C\":None, \"kernel\":None, \"degree\":None, \"gamma\":None}\n",
    "best_score = 0.0"
   ]
  },
  {
   "cell_type": "code",
   "execution_count": 22,
   "id": "several-adrian",
   "metadata": {},
   "outputs": [
    {
     "name": "stdout",
     "output_type": "stream",
     "text": [
      "1, poly, scale, 5 ==> score: 0.971786\n",
      "1, poly, scale, 7 ==> score: 0.972012\n",
      "1, poly, scale, 9 ==> score: 0.966190\n",
      "1, rbf, scale ==> score: 0.952345\n",
      "10, poly, scale, 5 ==> score: 0.973726\n",
      "10, poly, scale, 7 ==> score: 0.968524\n",
      "10, poly, scale, 9 ==> score: 0.963060\n",
      "10, rbf, scale ==> score: 0.964964\n",
      "100, poly, scale, 5 ==> score: 0.971429\n",
      "100, poly, scale, 7 ==> score: 0.965476\n",
      "100, poly, scale, 9 ==> score: 0.963107\n",
      "100, rbf, scale ==> score: 0.974083\n"
     ]
    }
   ],
   "source": [
    "for C in Cs:\n",
    "    for kernel in kernels:\n",
    "        for gamma in gammas:\n",
    "            if kernel == 'poly':\n",
    "                for degree in degrees:\n",
    "                    cls = SVC(C=C, kernel=kernel, gamma=gamma, degree=degree, cache_size=10000, random_state=27)\n",
    "                    _ = cls.fit(x_train, y_train)\n",
    "                    score = cls.score(x_val, y_val)\n",
    "                    print(\"%s, %s, %s, %s ==> score: %f\" %(C, kernel, gamma, degree, score))\n",
    "                    if score > best_score:\n",
    "                        best_score = score\n",
    "                        best['C'] = C\n",
    "                        best['kernel'] = kernel\n",
    "                        best['degree'] = degree\n",
    "                        best['gamma'] = gamma\n",
    "            else:\n",
    "                cls = SVC(C=C, kernel=kernel, gamma=gamma, cache_size=10000, random_state=27)\n",
    "                _ = cls.fit(x_train, y_train)\n",
    "                score = cls.score(x_val, y_val)\n",
    "                print(\"%s, %s, %s ==> score: %f\" %(C, kernel, gamma, score))\n",
    "                if score > best_score:\n",
    "                    best_score = score\n",
    "                    best['C'] = C\n",
    "                    best['kernel'] = kernel\n",
    "                    best['degree'] = None\n",
    "                    best['gamma'] = gamma"
   ]
  },
  {
   "cell_type": "code",
   "execution_count": 23,
   "id": "nonprofit-health",
   "metadata": {},
   "outputs": [
    {
     "name": "stdout",
     "output_type": "stream",
     "text": [
      "0.9740833333333333\n",
      "{'C': 100, 'kernel': 'rbf', 'degree': None, 'gamma': 'scale'}\n"
     ]
    }
   ],
   "source": [
    "print(best_score)\n",
    "print(best)"
   ]
  },
  {
   "cell_type": "code",
   "execution_count": 24,
   "id": "fossil-tamil",
   "metadata": {},
   "outputs": [
    {
     "name": "stdout",
     "output_type": "stream",
     "text": [
      "0.9748046296296297\n"
     ]
    }
   ],
   "source": [
    "cls = SVC(C=100, kernel='rbf', gamma='scale', random_state=27)\n",
    "_ = cls.fit(x_train, y_train)\n",
    "score = cls.score(x_test, y_test)\n",
    "print(score)"
   ]
  },
  {
   "cell_type": "markdown",
   "id": "environmental-director",
   "metadata": {},
   "source": [
    "# Random Forest"
   ]
  },
  {
   "cell_type": "code",
   "execution_count": 5,
   "id": "extra-parliament",
   "metadata": {},
   "outputs": [],
   "source": [
    "N_Estimators = [25, 50, 75, 100, 125, 150]\n",
    "criterions = ['gini', 'entropy']\n",
    "max_depths = [2, 3, 5, 10, None]\n",
    "max_Features = ['sqrt', 'log2', None]"
   ]
  },
  {
   "cell_type": "code",
   "execution_count": 6,
   "id": "invisible-polyester",
   "metadata": {},
   "outputs": [],
   "source": [
    "best = {\"n_estimators\":None, \"criterion\":None, \"max_depth\":None, \"max_features\":None}\n",
    "best_score = 0.0"
   ]
  },
  {
   "cell_type": "code",
   "execution_count": 7,
   "id": "exclusive-groove",
   "metadata": {},
   "outputs": [
    {
     "name": "stdout",
     "output_type": "stream",
     "text": [
      "25, gini, 2, sqrt ==> score: 0.800643\n",
      "25, gini, 2, log2 ==> score: 0.780464\n",
      "25, gini, 2, None ==> score: 0.678536\n",
      "25, gini, 3, sqrt ==> score: 0.888774\n",
      "25, gini, 3, log2 ==> score: 0.886167\n",
      "25, gini, 3, None ==> score: 0.810476\n",
      "25, gini, 5, sqrt ==> score: 0.924857\n",
      "25, gini, 5, log2 ==> score: 0.922619\n",
      "25, gini, 5, None ==> score: 0.891643\n",
      "25, gini, 10, sqrt ==> score: 0.960929\n",
      "25, gini, 10, log2 ==> score: 0.959929\n",
      "25, gini, 10, None ==> score: 0.937690\n",
      "25, gini, None, sqrt ==> score: 0.972750\n",
      "25, gini, None, log2 ==> score: 0.971750\n",
      "25, gini, None, None ==> score: 0.946714\n",
      "25, entropy, 2, sqrt ==> score: 0.807845\n",
      "25, entropy, 2, log2 ==> score: 0.821250\n",
      "25, entropy, 2, None ==> score: 0.782405\n",
      "25, entropy, 3, sqrt ==> score: 0.888012\n",
      "25, entropy, 3, log2 ==> score: 0.892095\n",
      "25, entropy, 3, None ==> score: 0.848560\n",
      "25, entropy, 5, sqrt ==> score: 0.925952\n",
      "25, entropy, 5, log2 ==> score: 0.925345\n",
      "25, entropy, 5, None ==> score: 0.895024\n",
      "25, entropy, 10, sqrt ==> score: 0.964440\n",
      "25, entropy, 10, log2 ==> score: 0.962607\n",
      "25, entropy, 10, None ==> score: 0.942595\n",
      "25, entropy, None, sqrt ==> score: 0.973321\n",
      "25, entropy, None, log2 ==> score: 0.973012\n",
      "25, entropy, None, None ==> score: 0.949417\n",
      "50, gini, 2, sqrt ==> score: 0.768119\n",
      "50, gini, 2, log2 ==> score: 0.775095\n",
      "50, gini, 2, None ==> score: 0.678536\n",
      "50, gini, 3, sqrt ==> score: 0.888690\n",
      "50, gini, 3, log2 ==> score: 0.893429\n",
      "50, gini, 3, None ==> score: 0.810476\n",
      "50, gini, 5, sqrt ==> score: 0.925393\n",
      "50, gini, 5, log2 ==> score: 0.923619\n",
      "50, gini, 5, None ==> score: 0.891583\n",
      "50, gini, 10, sqrt ==> score: 0.962381\n",
      "50, gini, 10, log2 ==> score: 0.960619\n",
      "50, gini, 10, None ==> score: 0.937929\n",
      "50, gini, None, sqrt ==> score: 0.974357\n",
      "50, gini, None, log2 ==> score: 0.972940\n",
      "50, gini, None, None ==> score: 0.946929\n",
      "50, entropy, 2, sqrt ==> score: 0.795440\n",
      "50, entropy, 2, log2 ==> score: 0.795262\n",
      "50, entropy, 2, None ==> score: 0.782405\n",
      "50, entropy, 3, sqrt ==> score: 0.885464\n",
      "50, entropy, 3, log2 ==> score: 0.893655\n",
      "50, entropy, 3, None ==> score: 0.848560\n",
      "50, entropy, 5, sqrt ==> score: 0.926274\n",
      "50, entropy, 5, log2 ==> score: 0.926500\n",
      "50, entropy, 5, None ==> score: 0.895024\n",
      "50, entropy, 10, sqrt ==> score: 0.965143\n",
      "50, entropy, 10, log2 ==> score: 0.963750\n",
      "50, entropy, 10, None ==> score: 0.942690\n",
      "50, entropy, None, sqrt ==> score: 0.974750\n",
      "50, entropy, None, log2 ==> score: 0.973560\n",
      "50, entropy, None, None ==> score: 0.949607\n",
      "75, gini, 2, sqrt ==> score: 0.770952\n",
      "75, gini, 2, log2 ==> score: 0.771940\n",
      "75, gini, 2, None ==> score: 0.678536\n",
      "75, gini, 3, sqrt ==> score: 0.892667\n",
      "75, gini, 3, log2 ==> score: 0.893238\n",
      "75, gini, 3, None ==> score: 0.810476\n",
      "75, gini, 5, sqrt ==> score: 0.925893\n",
      "75, gini, 5, log2 ==> score: 0.923238\n",
      "75, gini, 5, None ==> score: 0.891583\n",
      "75, gini, 10, sqrt ==> score: 0.962286\n",
      "75, gini, 10, log2 ==> score: 0.961274\n",
      "75, gini, 10, None ==> score: 0.937869\n",
      "75, gini, None, sqrt ==> score: 0.974690\n",
      "75, gini, None, log2 ==> score: 0.973726\n",
      "75, gini, None, None ==> score: 0.946940\n",
      "75, entropy, 2, sqrt ==> score: 0.808821\n",
      "75, entropy, 2, log2 ==> score: 0.800631\n",
      "75, entropy, 2, None ==> score: 0.782405\n",
      "75, entropy, 3, sqrt ==> score: 0.892095\n",
      "75, entropy, 3, log2 ==> score: 0.895036\n",
      "75, entropy, 3, None ==> score: 0.848560\n",
      "75, entropy, 5, sqrt ==> score: 0.927226\n",
      "75, entropy, 5, log2 ==> score: 0.926548\n",
      "75, entropy, 5, None ==> score: 0.895000\n",
      "75, entropy, 10, sqrt ==> score: 0.965702\n",
      "75, entropy, 10, log2 ==> score: 0.964369\n",
      "75, entropy, 10, None ==> score: 0.942714\n",
      "75, entropy, None, sqrt ==> score: 0.975405\n",
      "75, entropy, None, log2 ==> score: 0.974048\n",
      "75, entropy, None, None ==> score: 0.949833\n",
      "100, gini, 2, sqrt ==> score: 0.768631\n",
      "100, gini, 2, log2 ==> score: 0.774071\n",
      "100, gini, 2, None ==> score: 0.678536\n",
      "100, gini, 3, sqrt ==> score: 0.892571\n",
      "100, gini, 3, log2 ==> score: 0.893679\n",
      "100, gini, 3, None ==> score: 0.810476\n",
      "100, gini, 5, sqrt ==> score: 0.925393\n",
      "100, gini, 5, log2 ==> score: 0.923357\n",
      "100, gini, 5, None ==> score: 0.891583\n",
      "100, gini, 10, sqrt ==> score: 0.962369\n",
      "100, gini, 10, log2 ==> score: 0.961643\n",
      "100, gini, 10, None ==> score: 0.938024\n",
      "100, gini, None, sqrt ==> score: 0.975107\n",
      "100, gini, None, log2 ==> score: 0.973786\n",
      "100, gini, None, None ==> score: 0.946964\n",
      "100, entropy, 2, sqrt ==> score: 0.798667\n",
      "100, entropy, 2, log2 ==> score: 0.798357\n",
      "100, entropy, 2, None ==> score: 0.782405\n",
      "100, entropy, 3, sqrt ==> score: 0.892071\n",
      "100, entropy, 3, log2 ==> score: 0.896786\n",
      "100, entropy, 3, None ==> score: 0.848560\n",
      "100, entropy, 5, sqrt ==> score: 0.928107\n",
      "100, entropy, 5, log2 ==> score: 0.926000\n",
      "100, entropy, 5, None ==> score: 0.895024\n",
      "100, entropy, 10, sqrt ==> score: 0.966024\n",
      "100, entropy, 10, log2 ==> score: 0.964262\n",
      "100, entropy, 10, None ==> score: 0.942762\n",
      "100, entropy, None, sqrt ==> score: 0.975238\n",
      "100, entropy, None, log2 ==> score: 0.974226\n",
      "100, entropy, None, None ==> score: 0.949976\n",
      "125, gini, 2, sqrt ==> score: 0.767369\n",
      "125, gini, 2, log2 ==> score: 0.773274\n",
      "125, gini, 2, None ==> score: 0.678536\n",
      "125, gini, 3, sqrt ==> score: 0.892417\n",
      "125, gini, 3, log2 ==> score: 0.892619\n",
      "125, gini, 3, None ==> score: 0.810476\n",
      "125, gini, 5, sqrt ==> score: 0.924750\n",
      "125, gini, 5, log2 ==> score: 0.922571\n",
      "125, gini, 5, None ==> score: 0.891583\n",
      "125, gini, 10, sqrt ==> score: 0.962583\n",
      "125, gini, 10, log2 ==> score: 0.961440\n",
      "125, gini, 10, None ==> score: 0.938060\n",
      "125, gini, None, sqrt ==> score: 0.975190\n",
      "125, gini, None, log2 ==> score: 0.974048\n",
      "125, gini, None, None ==> score: 0.946976\n",
      "125, entropy, 2, sqrt ==> score: 0.800155\n",
      "125, entropy, 2, log2 ==> score: 0.801702\n",
      "125, entropy, 2, None ==> score: 0.782405\n",
      "125, entropy, 3, sqrt ==> score: 0.891655\n",
      "125, entropy, 3, log2 ==> score: 0.895988\n",
      "125, entropy, 3, None ==> score: 0.848560\n",
      "125, entropy, 5, sqrt ==> score: 0.928143\n",
      "125, entropy, 5, log2 ==> score: 0.925988\n",
      "125, entropy, 5, None ==> score: 0.895000\n",
      "125, entropy, 10, sqrt ==> score: 0.965929\n",
      "125, entropy, 10, log2 ==> score: 0.964643\n",
      "125, entropy, 10, None ==> score: 0.942714\n",
      "125, entropy, None, sqrt ==> score: 0.975488\n",
      "125, entropy, None, log2 ==> score: 0.974429\n",
      "125, entropy, None, None ==> score: 0.949821\n",
      "150, gini, 2, sqrt ==> score: 0.775536\n",
      "150, gini, 2, log2 ==> score: 0.772226\n",
      "150, gini, 2, None ==> score: 0.678536\n",
      "150, gini, 3, sqrt ==> score: 0.893048\n",
      "150, gini, 3, log2 ==> score: 0.892119\n",
      "150, gini, 3, None ==> score: 0.810476\n",
      "150, gini, 5, sqrt ==> score: 0.925762\n",
      "150, gini, 5, log2 ==> score: 0.922952\n",
      "150, gini, 5, None ==> score: 0.891595\n",
      "150, gini, 10, sqrt ==> score: 0.962774\n",
      "150, gini, 10, log2 ==> score: 0.961369\n",
      "150, gini, 10, None ==> score: 0.938071\n",
      "150, gini, None, sqrt ==> score: 0.975250\n",
      "150, gini, None, log2 ==> score: 0.974179\n",
      "150, gini, None, None ==> score: 0.946869\n",
      "150, entropy, 2, sqrt ==> score: 0.805476\n",
      "150, entropy, 2, log2 ==> score: 0.803690\n",
      "150, entropy, 2, None ==> score: 0.782405\n",
      "150, entropy, 3, sqrt ==> score: 0.891333\n",
      "150, entropy, 3, log2 ==> score: 0.895714\n",
      "150, entropy, 3, None ==> score: 0.848560\n",
      "150, entropy, 5, sqrt ==> score: 0.928369\n",
      "150, entropy, 5, log2 ==> score: 0.925702\n",
      "150, entropy, 5, None ==> score: 0.895000\n",
      "150, entropy, 10, sqrt ==> score: 0.966119\n",
      "150, entropy, 10, log2 ==> score: 0.964548\n",
      "150, entropy, 10, None ==> score: 0.942655\n",
      "150, entropy, None, sqrt ==> score: 0.975762\n",
      "150, entropy, None, log2 ==> score: 0.974702\n",
      "150, entropy, None, None ==> score: 0.949821\n"
     ]
    }
   ],
   "source": [
    "for n_estimators in N_Estimators:\n",
    "    for criterion in criterions:\n",
    "        for max_depth in max_depths:\n",
    "            for max_features in max_Features:\n",
    "                cls = RandomForestClassifier(n_estimators=n_estimators, criterion=criterion,\n",
    "                                            max_depth=max_depth, max_features=max_features,\n",
    "                                            n_jobs=11, bootstrap=False, random_state=27)\n",
    "                _ = cls.fit(x_train, y_train)\n",
    "                score = cls.score(x_val, y_val)\n",
    "                print(\"%s, %s, %s, %s ==> score: %f\" %(n_estimators, criterion, max_depth, max_features, score))\n",
    "                if score > best_score:\n",
    "                    best_score = score\n",
    "                    best['n_estimators'] = n_estimators\n",
    "                    best['criterion'] = criterion\n",
    "                    best['max_depth'] = max_depth\n",
    "                    best['max_features'] = max_features"
   ]
  },
  {
   "cell_type": "code",
   "execution_count": 8,
   "id": "confirmed-foster",
   "metadata": {},
   "outputs": [
    {
     "name": "stdout",
     "output_type": "stream",
     "text": [
      "0.9757619047619047\n",
      "{'n_estimators': 150, 'criterion': 'entropy', 'max_depth': None, 'max_features': 'sqrt'}\n"
     ]
    }
   ],
   "source": [
    "print(best_score)\n",
    "print(best)"
   ]
  },
  {
   "cell_type": "code",
   "execution_count": 9,
   "id": "inside-laundry",
   "metadata": {},
   "outputs": [
    {
     "name": "stdout",
     "output_type": "stream",
     "text": [
      "0.9753685185185185\n"
     ]
    }
   ],
   "source": [
    "cls = RandomForestClassifier(n_estimators=150, criterion='entropy', max_depth=None, max_features='sqrt',\n",
    "                                            n_jobs=11, bootstrap=False, random_state=27)\n",
    "_ = cls.fit(x_train, y_train)\n",
    "score = cls.score(x_test, y_test)\n",
    "print(score)"
   ]
  }
 ],
 "metadata": {
  "kernelspec": {
   "display_name": "Python 3",
   "language": "python",
   "name": "python3"
  },
  "language_info": {
   "codemirror_mode": {
    "name": "ipython",
    "version": 3
   },
   "file_extension": ".py",
   "mimetype": "text/x-python",
   "name": "python",
   "nbconvert_exporter": "python",
   "pygments_lexer": "ipython3",
   "version": "3.8.5"
  }
 },
 "nbformat": 4,
 "nbformat_minor": 5
}
